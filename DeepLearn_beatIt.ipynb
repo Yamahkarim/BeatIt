{
 "cells": [
  {
   "cell_type": "code",
   "execution_count": 1,
   "metadata": {},
   "outputs": [],
   "source": [
    "import pandas as pd"
   ]
  },
  {
   "cell_type": "markdown",
   "metadata": {},
   "source": [
    "# Read the CSV and Perform Basic Data Cleaning"
   ]
  },
  {
   "cell_type": "code",
   "execution_count": 2,
   "metadata": {},
   "outputs": [
    {
     "data": {
      "text/html": [
       "<div>\n",
       "<style scoped>\n",
       "    .dataframe tbody tr th:only-of-type {\n",
       "        vertical-align: middle;\n",
       "    }\n",
       "\n",
       "    .dataframe tbody tr th {\n",
       "        vertical-align: top;\n",
       "    }\n",
       "\n",
       "    .dataframe thead th {\n",
       "        text-align: right;\n",
       "    }\n",
       "</style>\n",
       "<table border=\"1\" class=\"dataframe\">\n",
       "  <thead>\n",
       "    <tr style=\"text-align: right;\">\n",
       "      <th></th>\n",
       "      <th>Unnamed: 0</th>\n",
       "      <th>1-ZCRm</th>\n",
       "      <th>4-SpectralCentroidm</th>\n",
       "      <th>6-SpectralEntropym</th>\n",
       "      <th>7-SpectralFluxm</th>\n",
       "      <th>8-SpectralRolloffm</th>\n",
       "      <th>71-BPMessentia</th>\n",
       "      <th>class</th>\n",
       "    </tr>\n",
       "  </thead>\n",
       "  <tbody>\n",
       "    <tr>\n",
       "      <th>0</th>\n",
       "      <td>0</td>\n",
       "      <td>0.136440</td>\n",
       "      <td>0.262825</td>\n",
       "      <td>1.114423</td>\n",
       "      <td>0.007003</td>\n",
       "      <td>0.256682</td>\n",
       "      <td>128</td>\n",
       "      <td>BigRoom</td>\n",
       "    </tr>\n",
       "    <tr>\n",
       "      <th>1</th>\n",
       "      <td>1</td>\n",
       "      <td>0.117039</td>\n",
       "      <td>0.247657</td>\n",
       "      <td>1.065668</td>\n",
       "      <td>0.005387</td>\n",
       "      <td>0.199821</td>\n",
       "      <td>126</td>\n",
       "      <td>BigRoom</td>\n",
       "    </tr>\n",
       "    <tr>\n",
       "      <th>2</th>\n",
       "      <td>2</td>\n",
       "      <td>0.085308</td>\n",
       "      <td>0.217205</td>\n",
       "      <td>0.789647</td>\n",
       "      <td>0.008247</td>\n",
       "      <td>0.156822</td>\n",
       "      <td>129</td>\n",
       "      <td>BigRoom</td>\n",
       "    </tr>\n",
       "    <tr>\n",
       "      <th>3</th>\n",
       "      <td>3</td>\n",
       "      <td>0.103050</td>\n",
       "      <td>0.233593</td>\n",
       "      <td>0.967082</td>\n",
       "      <td>0.006571</td>\n",
       "      <td>0.168083</td>\n",
       "      <td>129</td>\n",
       "      <td>BigRoom</td>\n",
       "    </tr>\n",
       "    <tr>\n",
       "      <th>4</th>\n",
       "      <td>4</td>\n",
       "      <td>0.151730</td>\n",
       "      <td>0.293730</td>\n",
       "      <td>1.353005</td>\n",
       "      <td>0.003872</td>\n",
       "      <td>0.292055</td>\n",
       "      <td>129</td>\n",
       "      <td>BigRoom</td>\n",
       "    </tr>\n",
       "  </tbody>\n",
       "</table>\n",
       "</div>"
      ],
      "text/plain": [
       "   Unnamed: 0    1-ZCRm  4-SpectralCentroidm  6-SpectralEntropym  \\\n",
       "0           0  0.136440             0.262825            1.114423   \n",
       "1           1  0.117039             0.247657            1.065668   \n",
       "2           2  0.085308             0.217205            0.789647   \n",
       "3           3  0.103050             0.233593            0.967082   \n",
       "4           4  0.151730             0.293730            1.353005   \n",
       "\n",
       "   7-SpectralFluxm  8-SpectralRolloffm  71-BPMessentia    class  \n",
       "0         0.007003            0.256682             128  BigRoom  \n",
       "1         0.005387            0.199821             126  BigRoom  \n",
       "2         0.008247            0.156822             129  BigRoom  \n",
       "3         0.006571            0.168083             129  BigRoom  \n",
       "4         0.003872            0.292055             129  BigRoom  "
      ]
     },
     "execution_count": 2,
     "metadata": {},
     "output_type": "execute_result"
    }
   ],
   "source": [
    "#Read CSV\n",
    "df = pd.read_csv('data/cleanData.csv')\n",
    "df.head()"
   ]
  },
  {
   "cell_type": "code",
   "execution_count": 3,
   "metadata": {},
   "outputs": [],
   "source": [
    "# Remove Space for `FALSE POSITIVE` category\n",
    "# mask = df[\"koi_disposition\"] == \"FALSE POSITIVE\"\n",
    "# df.loc[mask, \"koi_disposition\"] = \"False_Positive\"\n",
    "# df[\"koi_disposition\"]"
   ]
  },
  {
   "cell_type": "markdown",
   "metadata": {},
   "source": [
    "# Create a Train Test Split\n",
    "\n",
    "Use `class` for the y values"
   ]
  },
  {
   "cell_type": "code",
   "execution_count": 4,
   "metadata": {},
   "outputs": [],
   "source": [
    "from sklearn.model_selection import train_test_split\n",
    "y = df[\"class\"]\n",
    "X = df.drop(columns=[\"class\"])\n",
    "\n",
    "X_train, X_test, y_train, y_test = train_test_split(X, y, random_state=1, stratify=y)"
   ]
  },
  {
   "cell_type": "code",
   "execution_count": 5,
   "metadata": {},
   "outputs": [
    {
     "data": {
      "text/html": [
       "<div>\n",
       "<style scoped>\n",
       "    .dataframe tbody tr th:only-of-type {\n",
       "        vertical-align: middle;\n",
       "    }\n",
       "\n",
       "    .dataframe tbody tr th {\n",
       "        vertical-align: top;\n",
       "    }\n",
       "\n",
       "    .dataframe thead th {\n",
       "        text-align: right;\n",
       "    }\n",
       "</style>\n",
       "<table border=\"1\" class=\"dataframe\">\n",
       "  <thead>\n",
       "    <tr style=\"text-align: right;\">\n",
       "      <th></th>\n",
       "      <th>Unnamed: 0</th>\n",
       "      <th>1-ZCRm</th>\n",
       "      <th>4-SpectralCentroidm</th>\n",
       "      <th>6-SpectralEntropym</th>\n",
       "      <th>7-SpectralFluxm</th>\n",
       "      <th>8-SpectralRolloffm</th>\n",
       "      <th>71-BPMessentia</th>\n",
       "    </tr>\n",
       "  </thead>\n",
       "  <tbody>\n",
       "    <tr>\n",
       "      <th>1758</th>\n",
       "      <td>1758</td>\n",
       "      <td>0.091103</td>\n",
       "      <td>0.229035</td>\n",
       "      <td>0.690514</td>\n",
       "      <td>0.012045</td>\n",
       "      <td>0.173285</td>\n",
       "      <td>123</td>\n",
       "    </tr>\n",
       "    <tr>\n",
       "      <th>1401</th>\n",
       "      <td>1401</td>\n",
       "      <td>0.072794</td>\n",
       "      <td>0.239562</td>\n",
       "      <td>0.601325</td>\n",
       "      <td>0.008465</td>\n",
       "      <td>0.107336</td>\n",
       "      <td>126</td>\n",
       "    </tr>\n",
       "    <tr>\n",
       "      <th>1545</th>\n",
       "      <td>1545</td>\n",
       "      <td>0.158472</td>\n",
       "      <td>0.294533</td>\n",
       "      <td>1.345575</td>\n",
       "      <td>0.006274</td>\n",
       "      <td>0.287489</td>\n",
       "      <td>121</td>\n",
       "    </tr>\n",
       "    <tr>\n",
       "      <th>155</th>\n",
       "      <td>155</td>\n",
       "      <td>0.123627</td>\n",
       "      <td>0.235015</td>\n",
       "      <td>1.020074</td>\n",
       "      <td>0.011133</td>\n",
       "      <td>0.207733</td>\n",
       "      <td>127</td>\n",
       "    </tr>\n",
       "    <tr>\n",
       "      <th>744</th>\n",
       "      <td>744</td>\n",
       "      <td>0.079600</td>\n",
       "      <td>0.211973</td>\n",
       "      <td>0.612767</td>\n",
       "      <td>0.017219</td>\n",
       "      <td>0.131065</td>\n",
       "      <td>124</td>\n",
       "    </tr>\n",
       "  </tbody>\n",
       "</table>\n",
       "</div>"
      ],
      "text/plain": [
       "      Unnamed: 0    1-ZCRm  4-SpectralCentroidm  6-SpectralEntropym  \\\n",
       "1758        1758  0.091103             0.229035            0.690514   \n",
       "1401        1401  0.072794             0.239562            0.601325   \n",
       "1545        1545  0.158472             0.294533            1.345575   \n",
       "155          155  0.123627             0.235015            1.020074   \n",
       "744          744  0.079600             0.211973            0.612767   \n",
       "\n",
       "      7-SpectralFluxm  8-SpectralRolloffm  71-BPMessentia  \n",
       "1758         0.012045            0.173285             123  \n",
       "1401         0.008465            0.107336             126  \n",
       "1545         0.006274            0.287489             121  \n",
       "155          0.011133            0.207733             127  \n",
       "744          0.017219            0.131065             124  "
      ]
     },
     "execution_count": 5,
     "metadata": {},
     "output_type": "execute_result"
    }
   ],
   "source": [
    "X_train.head()"
   ]
  },
  {
   "cell_type": "markdown",
   "metadata": {},
   "source": [
    "# Pre-processing\n",
    "\n",
    "Scale the data using LabelEncoder and MinMaxScaler"
   ]
  },
  {
   "cell_type": "code",
   "execution_count": 6,
   "metadata": {},
   "outputs": [
    {
     "name": "stderr",
     "output_type": "stream",
     "text": [
      "/anaconda3/lib/python3.7/site-packages/sklearn/preprocessing/data.py:323: DataConversionWarning: Data with input dtype int64, float64 were all converted to float64 by MinMaxScaler.\n",
      "  return self.partial_fit(X, y)\n"
     ]
    }
   ],
   "source": [
    "from sklearn.preprocessing import LabelEncoder, MinMaxScaler\n",
    "X_scaler = MinMaxScaler().fit(X_train)\n",
    "\n",
    "X_train_scaled = X_scaler.transform(X_train)\n",
    "X_test_scaled = X_scaler.transform(X_test)"
   ]
  },
  {
   "cell_type": "code",
   "execution_count": 7,
   "metadata": {},
   "outputs": [],
   "source": [
    "import tensorflow as tf\n",
    "from tensorflow.keras.models import Sequential\n",
    "from tensorflow.keras.utils import to_categorical\n",
    "from tensorflow.keras.layers import Dense"
   ]
  },
  {
   "cell_type": "code",
   "execution_count": 8,
   "metadata": {},
   "outputs": [],
   "source": [
    "label_encoder = LabelEncoder()\n",
    "label_encoder.fit(y_train)\n",
    "encoded_y_train = label_encoder.transform(y_train)\n",
    "encoded_y_test = label_encoder.transform(y_test)\n",
    "\n",
    "y_train_categorical = to_categorical(encoded_y_train)\n",
    "y_test_categorical = to_categorical(encoded_y_test)\n"
   ]
  },
  {
   "cell_type": "code",
   "execution_count": 9,
   "metadata": {},
   "outputs": [
    {
     "data": {
      "text/plain": [
       "array([17, 14, 15, ...,  3, 19,  3])"
      ]
     },
     "execution_count": 9,
     "metadata": {},
     "output_type": "execute_result"
    }
   ],
   "source": [
    "encoded_y_train"
   ]
  },
  {
   "cell_type": "code",
   "execution_count": 10,
   "metadata": {},
   "outputs": [
    {
     "data": {
      "text/plain": [
       "(1725, 23)"
      ]
     },
     "execution_count": 10,
     "metadata": {},
     "output_type": "execute_result"
    }
   ],
   "source": [
    "y_train_categorical.shape"
   ]
  },
  {
   "cell_type": "markdown",
   "metadata": {},
   "source": [
    "# Create and train the Deep Learning Model using Keras"
   ]
  },
  {
   "cell_type": "code",
   "execution_count": 11,
   "metadata": {},
   "outputs": [
    {
     "name": "stdout",
     "output_type": "stream",
     "text": [
      "WARNING:tensorflow:From /anaconda3/lib/python3.7/site-packages/tensorflow/python/ops/resource_variable_ops.py:435: colocate_with (from tensorflow.python.framework.ops) is deprecated and will be removed in a future version.\n",
      "Instructions for updating:\n",
      "Colocations handled automatically by placer.\n"
     ]
    }
   ],
   "source": [
    "model = Sequential()\n",
    "model.add(Dense(units=100, activation='relu', input_dim=7))\n",
    "model.add(Dense(units=100, activation='relu'))\n",
    "model.add(Dense(units=23, activation='softmax'))"
   ]
  },
  {
   "cell_type": "code",
   "execution_count": 12,
   "metadata": {},
   "outputs": [],
   "source": [
    "# Compile and fit the model\n",
    "model.compile(optimizer='adam',\n",
    "              loss='categorical_crossentropy',\n",
    "              metrics=['accuracy'])"
   ]
  },
  {
   "cell_type": "code",
   "execution_count": 13,
   "metadata": {},
   "outputs": [
    {
     "name": "stdout",
     "output_type": "stream",
     "text": [
      "_________________________________________________________________\n",
      "Layer (type)                 Output Shape              Param #   \n",
      "=================================================================\n",
      "dense (Dense)                (None, 100)               800       \n",
      "_________________________________________________________________\n",
      "dense_1 (Dense)              (None, 100)               10100     \n",
      "_________________________________________________________________\n",
      "dense_2 (Dense)              (None, 23)                2323      \n",
      "=================================================================\n",
      "Total params: 13,223\n",
      "Trainable params: 13,223\n",
      "Non-trainable params: 0\n",
      "_________________________________________________________________\n"
     ]
    }
   ],
   "source": [
    "\n",
    "model.summary()"
   ]
  },
  {
   "cell_type": "code",
   "execution_count": 14,
   "metadata": {},
   "outputs": [
    {
     "data": {
      "text/plain": [
       "(1725, 7)"
      ]
     },
     "execution_count": 14,
     "metadata": {},
     "output_type": "execute_result"
    }
   ],
   "source": [
    "X_train_scaled.shape\n"
   ]
  },
  {
   "cell_type": "code",
   "execution_count": 15,
   "metadata": {},
   "outputs": [
    {
     "data": {
      "text/plain": [
       "(1725, 23)"
      ]
     },
     "execution_count": 15,
     "metadata": {},
     "output_type": "execute_result"
    }
   ],
   "source": [
    "y_train_categorical.shape"
   ]
  },
  {
   "cell_type": "code",
   "execution_count": 16,
   "metadata": {},
   "outputs": [
    {
     "data": {
      "text/plain": [
       "(1725,)"
      ]
     },
     "execution_count": 16,
     "metadata": {},
     "output_type": "execute_result"
    }
   ],
   "source": [
    "encoded_y_train.shape"
   ]
  },
  {
   "cell_type": "code",
   "execution_count": 17,
   "metadata": {},
   "outputs": [
    {
     "name": "stdout",
     "output_type": "stream",
     "text": [
      "WARNING:tensorflow:From /anaconda3/lib/python3.7/site-packages/tensorflow/python/ops/math_ops.py:3066: to_int32 (from tensorflow.python.ops.math_ops) is deprecated and will be removed in a future version.\n",
      "Instructions for updating:\n",
      "Use tf.cast instead.\n",
      "Epoch 1/60\n",
      " - 1s - loss: 3.0518 - acc: 0.0951\n",
      "Epoch 2/60\n",
      " - 0s - loss: 2.7523 - acc: 0.1896\n",
      "Epoch 3/60\n",
      " - 0s - loss: 2.3517 - acc: 0.2667\n",
      "Epoch 4/60\n",
      " - 0s - loss: 2.0545 - acc: 0.3710\n",
      "Epoch 5/60\n",
      " - 0s - loss: 1.8639 - acc: 0.4093\n",
      "Epoch 6/60\n",
      " - 0s - loss: 1.7198 - acc: 0.4719\n",
      "Epoch 7/60\n",
      " - 0s - loss: 1.6080 - acc: 0.4887\n",
      "Epoch 8/60\n",
      " - 0s - loss: 1.5161 - acc: 0.5223\n",
      "Epoch 9/60\n",
      " - 0s - loss: 1.4327 - acc: 0.5577\n",
      "Epoch 10/60\n",
      " - 0s - loss: 1.3570 - acc: 0.5762\n",
      "Epoch 11/60\n",
      " - 0s - loss: 1.3058 - acc: 0.5728\n",
      "Epoch 12/60\n",
      " - 0s - loss: 1.2458 - acc: 0.6041\n",
      "Epoch 13/60\n",
      " - 0s - loss: 1.2005 - acc: 0.6232\n",
      "Epoch 14/60\n",
      " - 0s - loss: 1.1575 - acc: 0.6313\n",
      "Epoch 15/60\n",
      " - 0s - loss: 1.1171 - acc: 0.6562\n",
      "Epoch 16/60\n",
      " - 0s - loss: 1.0857 - acc: 0.6475\n",
      "Epoch 17/60\n",
      " - 0s - loss: 1.0571 - acc: 0.6539\n",
      "Epoch 18/60\n",
      " - 0s - loss: 1.0211 - acc: 0.6893\n",
      "Epoch 19/60\n",
      " - 0s - loss: 1.0053 - acc: 0.6528\n",
      "Epoch 20/60\n",
      " - 0s - loss: 0.9704 - acc: 0.6910\n",
      "Epoch 21/60\n",
      " - 0s - loss: 0.9314 - acc: 0.7159\n",
      "Epoch 22/60\n",
      " - 0s - loss: 0.9030 - acc: 0.7270\n",
      "Epoch 23/60\n",
      " - 0s - loss: 0.8883 - acc: 0.7252\n",
      "Epoch 24/60\n",
      " - 0s - loss: 0.8678 - acc: 0.7281\n",
      "Epoch 25/60\n",
      " - 0s - loss: 0.8375 - acc: 0.7420\n",
      "Epoch 26/60\n",
      " - 0s - loss: 0.8185 - acc: 0.7612\n",
      "Epoch 27/60\n",
      " - 0s - loss: 0.8085 - acc: 0.7432\n",
      "Epoch 28/60\n",
      " - 0s - loss: 0.7949 - acc: 0.7414\n",
      "Epoch 29/60\n",
      " - 0s - loss: 0.7529 - acc: 0.7652\n",
      "Epoch 30/60\n",
      " - 0s - loss: 0.7442 - acc: 0.7658\n",
      "Epoch 31/60\n",
      " - 0s - loss: 0.7334 - acc: 0.7646\n",
      "Epoch 32/60\n",
      " - 0s - loss: 0.7103 - acc: 0.7867\n",
      "Epoch 33/60\n",
      " - 0s - loss: 0.6911 - acc: 0.7965\n",
      "Epoch 34/60\n",
      " - 0s - loss: 0.6724 - acc: 0.8041\n",
      "Epoch 35/60\n",
      " - 0s - loss: 0.6664 - acc: 0.7971\n",
      "Epoch 36/60\n",
      " - 0s - loss: 0.6394 - acc: 0.8116\n",
      "Epoch 37/60\n",
      " - 0s - loss: 0.6319 - acc: 0.8012\n",
      "Epoch 38/60\n",
      " - 0s - loss: 0.6157 - acc: 0.8278\n",
      "Epoch 39/60\n",
      " - 0s - loss: 0.6103 - acc: 0.8220\n",
      "Epoch 40/60\n",
      " - 0s - loss: 0.5891 - acc: 0.8365\n",
      "Epoch 41/60\n",
      " - 0s - loss: 0.5732 - acc: 0.8278\n",
      "Epoch 42/60\n",
      " - 0s - loss: 0.5743 - acc: 0.8290\n",
      "Epoch 43/60\n",
      " - 0s - loss: 0.5522 - acc: 0.8406\n",
      "Epoch 44/60\n",
      " - 0s - loss: 0.5323 - acc: 0.8435\n",
      "Epoch 45/60\n",
      " - 0s - loss: 0.5232 - acc: 0.8545\n",
      "Epoch 46/60\n",
      " - 0s - loss: 0.5143 - acc: 0.8568\n",
      "Epoch 47/60\n",
      " - 0s - loss: 0.5149 - acc: 0.8412\n",
      "Epoch 48/60\n",
      " - 0s - loss: 0.5043 - acc: 0.8493\n",
      "Epoch 49/60\n",
      " - 0s - loss: 0.4972 - acc: 0.8533\n",
      "Epoch 50/60\n",
      " - 0s - loss: 0.4831 - acc: 0.8603\n",
      "Epoch 51/60\n",
      " - 0s - loss: 0.4676 - acc: 0.8725\n",
      "Epoch 52/60\n",
      " - 0s - loss: 0.4740 - acc: 0.8533\n",
      "Epoch 53/60\n",
      " - 0s - loss: 0.4661 - acc: 0.8586\n",
      "Epoch 54/60\n",
      " - 0s - loss: 0.4392 - acc: 0.8817\n",
      "Epoch 55/60\n",
      " - 0s - loss: 0.4335 - acc: 0.8846\n",
      "Epoch 56/60\n",
      " - 0s - loss: 0.4327 - acc: 0.8800\n",
      "Epoch 57/60\n",
      " - 0s - loss: 0.4165 - acc: 0.8852\n",
      "Epoch 58/60\n",
      " - 0s - loss: 0.4234 - acc: 0.8736\n",
      "Epoch 59/60\n",
      " - 0s - loss: 0.4126 - acc: 0.8933\n",
      "Epoch 60/60\n",
      " - 0s - loss: 0.4013 - acc: 0.8928\n"
     ]
    },
    {
     "data": {
      "text/plain": [
       "<tensorflow.python.keras.callbacks.History at 0x1a390a3c88>"
      ]
     },
     "execution_count": 17,
     "metadata": {},
     "output_type": "execute_result"
    }
   ],
   "source": [
    "model.fit(\n",
    "    X_train_scaled,\n",
    "    y_train_categorical,\n",
    "    epochs=60,\n",
    "    shuffle=True,\n",
    "    verbose=2\n",
    ")"
   ]
  },
  {
   "cell_type": "code",
   "execution_count": 18,
   "metadata": {},
   "outputs": [
    {
     "name": "stdout",
     "output_type": "stream",
     "text": [
      " - 0s - loss: 0.3731 - acc: 0.9130\n",
      "Normal Neural Network - Loss: 0.3731373781743257, Accuracy: 0.9130434989929199\n"
     ]
    }
   ],
   "source": [
    "model_loss, model_accuracy = model.evaluate(\n",
    "    X_test_scaled, y_test_categorical, verbose=2)\n",
    "print(\n",
    "    f\"Normal Neural Network - Loss: {model_loss}, Accuracy: {model_accuracy}\")"
   ]
  },
  {
   "cell_type": "code",
   "execution_count": 19,
   "metadata": {},
   "outputs": [],
   "source": [
    "encoded_predictions = model.predict_classes(X_test_scaled[:5])\n",
    "prediction_labels = label_encoder.inverse_transform(encoded_predictions)"
   ]
  },
  {
   "cell_type": "code",
   "execution_count": 20,
   "metadata": {},
   "outputs": [
    {
     "name": "stdout",
     "output_type": "stream",
     "text": [
      "Predicted classes: ['ElectronicaDowntempo' 'BigRoom' 'Dance' 'Breaks' 'HipHop']\n",
      "Actual Labels: ['ElectronicaDowntempo', 'Breaks', 'Dance', 'Breaks', 'HipHop']\n"
     ]
    }
   ],
   "source": [
    "print(f\"Predicted classes: {prediction_labels}\")\n",
    "print(f\"Actual Labels: {list(y_test[:5])}\")"
   ]
  },
  {
   "cell_type": "code",
   "execution_count": null,
   "metadata": {},
   "outputs": [],
   "source": []
  }
 ],
 "metadata": {
  "kernelspec": {
   "display_name": "Python 3",
   "language": "python",
   "name": "python3"
  },
  "language_info": {
   "codemirror_mode": {
    "name": "ipython",
    "version": 3
   },
   "file_extension": ".py",
   "mimetype": "text/x-python",
   "name": "python",
   "nbconvert_exporter": "python",
   "pygments_lexer": "ipython3",
   "version": "3.7.1"
  }
 },
 "nbformat": 4,
 "nbformat_minor": 2
}
