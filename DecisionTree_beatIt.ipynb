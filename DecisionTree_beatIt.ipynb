{
 "cells": [
  {
   "cell_type": "markdown",
   "metadata": {},
   "source": [
    "# Decision Tree"
   ]
  },
  {
   "cell_type": "code",
   "execution_count": 1,
   "metadata": {},
   "outputs": [],
   "source": [
    "#dependencies\n",
    "from sklearn import tree\n",
    "import pandas as pd\n",
    "import os"
   ]
  },
  {
   "cell_type": "markdown",
   "metadata": {},
   "source": [
    "# Read the CSV and Perform Basic Data Cleaning"
   ]
  },
  {
   "cell_type": "code",
   "execution_count": 2,
   "metadata": {},
   "outputs": [
    {
     "data": {
      "text/html": [
       "<div>\n",
       "<style scoped>\n",
       "    .dataframe tbody tr th:only-of-type {\n",
       "        vertical-align: middle;\n",
       "    }\n",
       "\n",
       "    .dataframe tbody tr th {\n",
       "        vertical-align: top;\n",
       "    }\n",
       "\n",
       "    .dataframe thead th {\n",
       "        text-align: right;\n",
       "    }\n",
       "</style>\n",
       "<table border=\"1\" class=\"dataframe\">\n",
       "  <thead>\n",
       "    <tr style=\"text-align: right;\">\n",
       "      <th></th>\n",
       "      <th>Unnamed: 0</th>\n",
       "      <th>1-ZCRm</th>\n",
       "      <th>4-SpectralCentroidm</th>\n",
       "      <th>6-SpectralEntropym</th>\n",
       "      <th>7-SpectralFluxm</th>\n",
       "      <th>8-SpectralRolloffm</th>\n",
       "      <th>71-BPMessentia</th>\n",
       "      <th>class</th>\n",
       "    </tr>\n",
       "  </thead>\n",
       "  <tbody>\n",
       "    <tr>\n",
       "      <th>0</th>\n",
       "      <td>0</td>\n",
       "      <td>0.136440</td>\n",
       "      <td>0.262825</td>\n",
       "      <td>1.114423</td>\n",
       "      <td>0.007003</td>\n",
       "      <td>0.256682</td>\n",
       "      <td>128</td>\n",
       "      <td>BigRoom</td>\n",
       "    </tr>\n",
       "    <tr>\n",
       "      <th>1</th>\n",
       "      <td>1</td>\n",
       "      <td>0.117039</td>\n",
       "      <td>0.247657</td>\n",
       "      <td>1.065668</td>\n",
       "      <td>0.005387</td>\n",
       "      <td>0.199821</td>\n",
       "      <td>126</td>\n",
       "      <td>BigRoom</td>\n",
       "    </tr>\n",
       "    <tr>\n",
       "      <th>2</th>\n",
       "      <td>2</td>\n",
       "      <td>0.085308</td>\n",
       "      <td>0.217205</td>\n",
       "      <td>0.789647</td>\n",
       "      <td>0.008247</td>\n",
       "      <td>0.156822</td>\n",
       "      <td>129</td>\n",
       "      <td>BigRoom</td>\n",
       "    </tr>\n",
       "    <tr>\n",
       "      <th>3</th>\n",
       "      <td>3</td>\n",
       "      <td>0.103050</td>\n",
       "      <td>0.233593</td>\n",
       "      <td>0.967082</td>\n",
       "      <td>0.006571</td>\n",
       "      <td>0.168083</td>\n",
       "      <td>129</td>\n",
       "      <td>BigRoom</td>\n",
       "    </tr>\n",
       "    <tr>\n",
       "      <th>4</th>\n",
       "      <td>4</td>\n",
       "      <td>0.151730</td>\n",
       "      <td>0.293730</td>\n",
       "      <td>1.353005</td>\n",
       "      <td>0.003872</td>\n",
       "      <td>0.292055</td>\n",
       "      <td>129</td>\n",
       "      <td>BigRoom</td>\n",
       "    </tr>\n",
       "  </tbody>\n",
       "</table>\n",
       "</div>"
      ],
      "text/plain": [
       "   Unnamed: 0    1-ZCRm  4-SpectralCentroidm  6-SpectralEntropym  \\\n",
       "0           0  0.136440             0.262825            1.114423   \n",
       "1           1  0.117039             0.247657            1.065668   \n",
       "2           2  0.085308             0.217205            0.789647   \n",
       "3           3  0.103050             0.233593            0.967082   \n",
       "4           4  0.151730             0.293730            1.353005   \n",
       "\n",
       "   7-SpectralFluxm  8-SpectralRolloffm  71-BPMessentia    class  \n",
       "0         0.007003            0.256682             128  BigRoom  \n",
       "1         0.005387            0.199821             126  BigRoom  \n",
       "2         0.008247            0.156822             129  BigRoom  \n",
       "3         0.006571            0.168083             129  BigRoom  \n",
       "4         0.003872            0.292055             129  BigRoom  "
      ]
     },
     "execution_count": 2,
     "metadata": {},
     "output_type": "execute_result"
    }
   ],
   "source": [
    "#Read CSV\n",
    "df = pd.read_csv('data/cleanData.csv')\n",
    "df.head()"
   ]
  },
  {
   "cell_type": "code",
   "execution_count": 3,
   "metadata": {},
   "outputs": [],
   "source": [
    "target = df[\"class\"]\n",
    "target_names = [\"negative\", \"positive\"]"
   ]
  },
  {
   "cell_type": "code",
   "execution_count": 4,
   "metadata": {},
   "outputs": [
    {
     "data": {
      "text/html": [
       "<div>\n",
       "<style scoped>\n",
       "    .dataframe tbody tr th:only-of-type {\n",
       "        vertical-align: middle;\n",
       "    }\n",
       "\n",
       "    .dataframe tbody tr th {\n",
       "        vertical-align: top;\n",
       "    }\n",
       "\n",
       "    .dataframe thead th {\n",
       "        text-align: right;\n",
       "    }\n",
       "</style>\n",
       "<table border=\"1\" class=\"dataframe\">\n",
       "  <thead>\n",
       "    <tr style=\"text-align: right;\">\n",
       "      <th></th>\n",
       "      <th>1-ZCRm</th>\n",
       "      <th>4-SpectralCentroidm</th>\n",
       "      <th>6-SpectralEntropym</th>\n",
       "      <th>7-SpectralFluxm</th>\n",
       "      <th>8-SpectralRolloffm</th>\n",
       "      <th>71-BPMessentia</th>\n",
       "    </tr>\n",
       "  </thead>\n",
       "  <tbody>\n",
       "    <tr>\n",
       "      <th>0</th>\n",
       "      <td>0.136440</td>\n",
       "      <td>0.262825</td>\n",
       "      <td>1.114423</td>\n",
       "      <td>0.007003</td>\n",
       "      <td>0.256682</td>\n",
       "      <td>128</td>\n",
       "    </tr>\n",
       "    <tr>\n",
       "      <th>1</th>\n",
       "      <td>0.117039</td>\n",
       "      <td>0.247657</td>\n",
       "      <td>1.065668</td>\n",
       "      <td>0.005387</td>\n",
       "      <td>0.199821</td>\n",
       "      <td>126</td>\n",
       "    </tr>\n",
       "    <tr>\n",
       "      <th>2</th>\n",
       "      <td>0.085308</td>\n",
       "      <td>0.217205</td>\n",
       "      <td>0.789647</td>\n",
       "      <td>0.008247</td>\n",
       "      <td>0.156822</td>\n",
       "      <td>129</td>\n",
       "    </tr>\n",
       "    <tr>\n",
       "      <th>3</th>\n",
       "      <td>0.103050</td>\n",
       "      <td>0.233593</td>\n",
       "      <td>0.967082</td>\n",
       "      <td>0.006571</td>\n",
       "      <td>0.168083</td>\n",
       "      <td>129</td>\n",
       "    </tr>\n",
       "    <tr>\n",
       "      <th>4</th>\n",
       "      <td>0.151730</td>\n",
       "      <td>0.293730</td>\n",
       "      <td>1.353005</td>\n",
       "      <td>0.003872</td>\n",
       "      <td>0.292055</td>\n",
       "      <td>129</td>\n",
       "    </tr>\n",
       "  </tbody>\n",
       "</table>\n",
       "</div>"
      ],
      "text/plain": [
       "     1-ZCRm  4-SpectralCentroidm  6-SpectralEntropym  7-SpectralFluxm  \\\n",
       "0  0.136440             0.262825            1.114423         0.007003   \n",
       "1  0.117039             0.247657            1.065668         0.005387   \n",
       "2  0.085308             0.217205            0.789647         0.008247   \n",
       "3  0.103050             0.233593            0.967082         0.006571   \n",
       "4  0.151730             0.293730            1.353005         0.003872   \n",
       "\n",
       "   8-SpectralRolloffm  71-BPMessentia  \n",
       "0            0.256682             128  \n",
       "1            0.199821             126  \n",
       "2            0.156822             129  \n",
       "3            0.168083             129  \n",
       "4            0.292055             129  "
      ]
     },
     "execution_count": 4,
     "metadata": {},
     "output_type": "execute_result"
    }
   ],
   "source": [
    "predata = df.drop(\"class\", axis=1)\n",
    "data=predata.drop(\"Unnamed: 0\", axis=1)\n",
    "feature_names = data.columns\n",
    "data.head()"
   ]
  },
  {
   "cell_type": "code",
   "execution_count": 5,
   "metadata": {},
   "outputs": [],
   "source": [
    "from sklearn.model_selection import train_test_split\n",
    "X_train, X_test, y_train, y_test = train_test_split(data, target, random_state=42)"
   ]
  },
  {
   "cell_type": "code",
   "execution_count": 10,
   "metadata": {},
   "outputs": [
    {
     "data": {
      "text/plain": [
       "0.3443478260869565"
      ]
     },
     "execution_count": 10,
     "metadata": {},
     "output_type": "execute_result"
    }
   ],
   "source": [
    "clf = tree.DecisionTreeClassifier()\n",
    "clf = clf.fit(X_train, y_train)\n",
    "clf.score(X_test, y_test)\n",
    "# clf.score(X_train, y_train)"
   ]
  },
  {
   "cell_type": "markdown",
   "metadata": {},
   "source": [
    "# Random Forest"
   ]
  },
  {
   "cell_type": "code",
   "execution_count": 7,
   "metadata": {},
   "outputs": [
    {
     "data": {
      "text/plain": [
       "0.4017391304347826"
      ]
     },
     "execution_count": 7,
     "metadata": {},
     "output_type": "execute_result"
    }
   ],
   "source": [
    "from sklearn.ensemble import RandomForestClassifier\n",
    "rf = RandomForestClassifier(n_estimators=200)\n",
    "rf = rf.fit(X_train, y_train)\n",
    "rf.score(X_test, y_test)"
   ]
  },
  {
   "cell_type": "code",
   "execution_count": 8,
   "metadata": {},
   "outputs": [
    {
     "data": {
      "text/plain": [
       "[(0.25165359215875144, '71-BPMessentia'),\n",
       " (0.1795374658597638, '7-SpectralFluxm'),\n",
       " (0.15288737809606162, '4-SpectralCentroidm'),\n",
       " (0.1447809347312612, '6-SpectralEntropym'),\n",
       " (0.13915461129634535, '1-ZCRm'),\n",
       " (0.13198601785781686, '8-SpectralRolloffm')]"
      ]
     },
     "execution_count": 8,
     "metadata": {},
     "output_type": "execute_result"
    }
   ],
   "source": [
    "sorted(zip(rf.feature_importances_, feature_names), reverse=True)"
   ]
  },
  {
   "cell_type": "code",
   "execution_count": null,
   "metadata": {},
   "outputs": [],
   "source": []
  }
 ],
 "metadata": {
  "kernelspec": {
   "display_name": "Python 3",
   "language": "python",
   "name": "python3"
  },
  "language_info": {
   "codemirror_mode": {
    "name": "ipython",
    "version": 3
   },
   "file_extension": ".py",
   "mimetype": "text/x-python",
   "name": "python",
   "nbconvert_exporter": "python",
   "pygments_lexer": "ipython3",
   "version": "3.7.1"
  }
 },
 "nbformat": 4,
 "nbformat_minor": 2
}
